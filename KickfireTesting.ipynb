{
 "cells": [
  {
   "cell_type": "markdown",
   "metadata": {},
   "source": [
    "# Import dependencies"
   ]
  },
  {
   "cell_type": "code",
   "execution_count": 1,
   "metadata": {},
   "outputs": [],
   "source": [
    "import requests\n",
    "import json\n",
    "import time\n",
    "import datetime\n",
    "import credentials\n",
    "import pandas as pd\n",
    "from simple_salesforce import Salesforce\n",
    "from sqlalchemy import create_engine\n",
    "from sqlalchemy.ext.declarative import declarative_base\n",
    "from sqlalchemy import Column, String, DateTime\n",
    "from sqlalchemy.orm import sessionmaker\n",
    "import smtplib\n",
    "from email.mime.multipart import MIMEMultipart\n",
    "from email.mime.text import MIMEText"
   ]
  },
  {
   "cell_type": "markdown",
   "metadata": {},
   "source": [
    "# Pull all Salesforce accounts missing Kickfire data"
   ]
  },
  {
   "cell_type": "code",
   "execution_count": 2,
   "metadata": {},
   "outputs": [],
   "source": [
    "sf = Salesforce(username=credentials.login['username'],password=credentials.login['password'],\n",
    "                security_token=credentials.login['security_token'])\n",
    "\n",
    "results = []\n",
    "main = sf.query_all('''SELECT Id, Name, Email_Domain__c                            \n",
    "             FROM Account \n",
    "             WHERE (Kickfire_Num_Employees__c='' OR Kickfire_Revenue__c='')                                  \n",
    "             AND Email_Domain__c != ''\n",
    "             ORDER BY Name ASC''')\n",
    "results.append(main['records'])\n",
    "\n",
    "records = [dict(Name=i['Name'], Id=i['Id'], EmailDomain=i['Email_Domain__c'], CreatedDate=datetime.datetime.today().replace(microsecond=0)) for i in results[0]]\n",
    "df = pd.DataFrame(records)"
   ]
  },
  {
   "cell_type": "code",
   "execution_count": 3,
   "metadata": {
    "scrolled": true
   },
   "outputs": [
    {
     "data": {
      "text/html": [
       "<div>\n",
       "<style scoped>\n",
       "    .dataframe tbody tr th:only-of-type {\n",
       "        vertical-align: middle;\n",
       "    }\n",
       "\n",
       "    .dataframe tbody tr th {\n",
       "        vertical-align: top;\n",
       "    }\n",
       "\n",
       "    .dataframe thead th {\n",
       "        text-align: right;\n",
       "    }\n",
       "</style>\n",
       "<table border=\"1\" class=\"dataframe\">\n",
       "  <thead>\n",
       "    <tr style=\"text-align: right;\">\n",
       "      <th></th>\n",
       "      <th>CreatedDate</th>\n",
       "      <th>EmailDomain</th>\n",
       "      <th>Id</th>\n",
       "      <th>Name</th>\n",
       "    </tr>\n",
       "  </thead>\n",
       "  <tbody>\n",
       "  </tbody>\n",
       "</table>\n",
       "</div>"
      ],
      "text/plain": [
       "Empty DataFrame\n",
       "Columns: [CreatedDate, EmailDomain, Id, Name]\n",
       "Index: []"
      ]
     },
     "execution_count": 3,
     "metadata": {},
     "output_type": "execute_result"
    }
   ],
   "source": [
    "df.loc[df['Id'].isin(['0013c00001r6oXoAAI'])]"
   ]
  },
  {
   "cell_type": "markdown",
   "metadata": {},
   "source": [
    "# Create database to store all records run through Kickfire API"
   ]
  },
  {
   "cell_type": "code",
   "execution_count": 4,
   "metadata": {},
   "outputs": [],
   "source": [
    "engine = create_engine('sqlite:///accounts.db', echo=False)\n",
    "Base = declarative_base()\n",
    "\n",
    "\n",
    "class Account(Base):\n",
    "    __tablename__ = 'accounts'\n",
    "\n",
    "    id = Column(String, primary_key=True)\n",
    "    name = Column(String)\n",
    "    email_domain = Column(String)\n",
    "    created_date = Column(DateTime)\n",
    "    employees = Column(String)\n",
    "    revenue = Column(String)\n",
    "    \n",
    "Base.metadata.create_all(engine)\n",
    "\n",
    "Session = sessionmaker(bind=engine)\n",
    "session = Session()\n",
    "\n",
    "#Create the initial databse so we don't re-run ~5k accounts through the API\n",
    "# for item in records:\n",
    "#     listing = Account(\n",
    "#     id=item['Id'],\n",
    "#     name=item['Name'],\n",
    "#     email_domain=item['EmailDomain'],\n",
    "#     created_date=item['CreatedDate']\n",
    "#     employees=employees,\n",
    "#     revenue=revenue\n",
    "#     )\n",
    "#     session.add(listing)\n",
    "#     session.commit()"
   ]
  },
  {
   "cell_type": "markdown",
   "metadata": {},
   "source": [
    "# Notification functions for failures and successes"
   ]
  },
  {
   "cell_type": "code",
   "execution_count": 5,
   "metadata": {},
   "outputs": [],
   "source": [
    "def notify_error(error):\n",
    "    username = credentials.email_login['username']\n",
    "    password = credentials.email_login['password']\n",
    "    fromaddr = \"pythonworker1870@gmail.com\"\n",
    "    toaddr = \"juhno.mann@ekata.com\"\n",
    "    msg = MIMEMultipart()\n",
    "    msg['From'] = fromaddr\n",
    "    msg['To'] = toaddr\n",
    "    msg['Subject'] = \"Kickfire API Failed\"\n",
    "    body = f'The script has failed to run \\n\\nError: {error}'\n",
    "    msg.attach(MIMEText(body, 'plain'))\n",
    "    text = msg.as_string()\n",
    "    try:\n",
    "        server = smtplib.SMTP('smtp.gmail.com', 587)\n",
    "        server.starttls()\n",
    "        server.login(username, password)\n",
    "        server.sendmail(fromaddr, toaddr, text)\n",
    "        server.close()\n",
    "        print('Failure Email sent!')\n",
    "    except:\n",
    "        print('Something went wrong with failure notification')\n",
    "        \n",
    "def notify_success(name, id, domain):\n",
    "    username = credentials.email_login['username']\n",
    "    password = credentials.email_login['password']\n",
    "    fromaddr = \"pythonworker1870@gmail.com\"\n",
    "    toaddr = \"juhno.mann@ekata.com\"\n",
    "    msg = MIMEMultipart()\n",
    "    msg['From'] = fromaddr\n",
    "    msg['To'] = toaddr\n",
    "    msg['Subject'] = f'Kickfire API Success - {name}'\n",
    "    body = f'The Kickfire API has been run for {name} on domain {domain}'\n",
    "    msg.attach(MIMEText(body, 'plain'))\n",
    "    text = msg.as_string()\n",
    "    try:\n",
    "        server = smtplib.SMTP('smtp.gmail.com', 587)\n",
    "        server.starttls()\n",
    "        server.login(username, password)\n",
    "        server.sendmail(fromaddr, toaddr, text)\n",
    "        server.close()\n",
    "        print('Success Email sent!')\n",
    "    except:\n",
    "        print('Something went wrong with success notification')"
   ]
  },
  {
   "cell_type": "markdown",
   "metadata": {},
   "source": [
    "# Check records against database and only run new records"
   ]
  },
  {
   "cell_type": "code",
   "execution_count": 6,
   "metadata": {},
   "outputs": [
    {
     "name": "stdout",
     "output_type": "stream",
     "text": [
      "Success Email sent!\n",
      "Added record TEST325106\n",
      "SUCCESS\n"
     ]
    }
   ],
   "source": [
    "api_key = credentials.kickfire['api_key']\n",
    "\n",
    "try:\n",
    "    for item in records:\n",
    "        account = session.query(Account).filter_by(id=item['Id']).first()\n",
    "        if account is None:\n",
    "            domain = item['EmailDomain']\n",
    "            kickfire = requests.get(f'https://api.kickfire.com/v3/company:(employees,revenue)?website={domain}&key={api_key}').json()\n",
    "            if kickfire['status'] == 'success':\n",
    "                employees = kickfire['data'][0]['employees']\n",
    "                revenue = kickfire['data'][0]['revenue']\n",
    "                sf.Account.update(item['Id'],{'Kickfire_Num_Employees__c':f'{employees}','Kickfire_Revenue__c':f'{revenue}'})\n",
    "                \n",
    "                listing = Account(\n",
    "                id=item['Id'],\n",
    "                name=item['Name'],\n",
    "                email_domain=item['EmailDomain'],\n",
    "                created_date=item['CreatedDate'],\n",
    "                employees=employees,\n",
    "                revenue=revenue\n",
    "                )\n",
    "                session.add(listing)\n",
    "                session.commit()\n",
    "                \n",
    "                notify_success(item['Name'], item['Id'], item['EmailDomain'])\n",
    "\n",
    "            else:\n",
    "                break\n",
    "\n",
    "except Exception as e:\n",
    "    notify_error(e)"
   ]
  },
  {
   "cell_type": "code",
   "execution_count": null,
   "metadata": {},
   "outputs": [],
   "source": [
    "accts = session.query(Account).filter_by(name='Apruvd LLC').first()\n",
    "print(accts.name)"
   ]
  }
 ],
 "metadata": {
  "kernelspec": {
   "display_name": "Python 3",
   "language": "python",
   "name": "python3"
  },
  "language_info": {
   "codemirror_mode": {
    "name": "ipython",
    "version": 3
   },
   "file_extension": ".py",
   "mimetype": "text/x-python",
   "name": "python",
   "nbconvert_exporter": "python",
   "pygments_lexer": "ipython3",
   "version": "3.7.1"
  }
 },
 "nbformat": 4,
 "nbformat_minor": 2
}
